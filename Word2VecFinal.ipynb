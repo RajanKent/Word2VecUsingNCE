{
 "cells": [
  {
   "cell_type": "code",
   "execution_count": 223,
   "metadata": {},
   "outputs": [],
   "source": [
    "import numpy as np\n",
    "import tensorflow as tf\n",
    "#from nltk.tokenize import word_tokenize \n"
   ]
  },
  {
   "cell_type": "code",
   "execution_count": 267,
   "metadata": {},
   "outputs": [
    {
     "name": "stdout",
     "output_type": "stream",
     "text": [
      "Vocab size:  22\n",
      "Words: {'old', 'of', 'english', 'top', 'manchester', 'professional', 'football', 'is', 'a', 'tier', 'league', 'in', 'that', 'competes', 'the', 'united', 'liverpool', 'trafford', 'based', 'england', 'club', 'premier'}\n"
     ]
    }
   ],
   "source": [
    "corpus_raw = 'Manchester United Football Club is a professional football club based in Old Trafford England. Liverpool Football Club is a professional football club in Liverpool, England, that competes in the Premier League, the top tier of English football.'\n",
    "# convert to lower case\n",
    "corpus_raw = corpus_raw.lower()\n",
    "corpus_raw = corpus_raw.replace(\",\", \"\")\n",
    "words = []\n",
    "for word in corpus_raw.split():\n",
    "    if word != '.': # because we don't want to treat . as a word\n",
    "        words.append(word.replace(\".\", \"\"))\n",
    "words = set(words) # so that all duplicate words are removed\n",
    "\n",
    "# words = word_tokenize(corpus_raw)         \n",
    "word2int = {}\n",
    "int2word = {}\n",
    "vocab_size = len(words) # gives the total number of unique words\n",
    "print('Vocab size: ', vocab_size)\n",
    "print('Words:', words)"
   ]
  },
  {
   "cell_type": "code",
   "execution_count": 225,
   "metadata": {},
   "outputs": [
    {
     "name": "stdout",
     "output_type": "stream",
     "text": [
      "index of \"manchester\" is : 19\n",
      "word in 1 index is : of\n"
     ]
    }
   ],
   "source": [
    "for i,word in enumerate(words):\n",
    "    word2int[word] = i\n",
    "    int2word[i] = word\n",
    "print('index of \"manchester\" is :',word2int['england'])\n",
    "print('word in 1 index is :', int2word[1])"
   ]
  },
  {
   "cell_type": "code",
   "execution_count": 226,
   "metadata": {},
   "outputs": [
    {
     "name": "stdout",
     "output_type": "stream",
     "text": [
      "Total number of sentenses are: 3\n",
      "\n",
      " Original sentence::  manchester united football club is a professional football club based in old trafford england. liverpool football club is a professional football club in liverpool england that competes in the premier league the top tier of english football.\n",
      "\n",
      " ************************Input is getting prepared ***********************\n",
      "0 : ['manchester', 'united']\n",
      "1 : ['manchester', 'football']\n",
      "2 : ['united', 'manchester']\n",
      "3 : ['united', 'football']\n",
      "4 : ['united', 'club']\n",
      "5 : ['football', 'manchester']\n",
      "6 : ['football', 'united']\n",
      "7 : ['football', 'club']\n",
      "8 : ['football', 'is']\n",
      "9 : ['club', 'united']\n",
      "10 : ['club', 'football']\n",
      "11 : ['club', 'is']\n",
      "12 : ['club', 'a']\n",
      "13 : ['is', 'football']\n",
      "14 : ['is', 'club']\n",
      "15 : ['is', 'a']\n",
      "16 : ['is', 'professional']\n",
      "17 : ['a', 'club']\n",
      "18 : ['a', 'is']\n",
      "19 : ['a', 'professional']\n",
      "20 : ['a', 'football']\n",
      "21 : ['professional', 'is']\n",
      "22 : ['professional', 'a']\n",
      "23 : ['professional', 'football']\n",
      "24 : ['professional', 'club']\n",
      "25 : ['football', 'a']\n",
      "26 : ['football', 'professional']\n",
      "27 : ['football', 'club']\n",
      "28 : ['football', 'based']\n",
      "29 : ['club', 'professional']\n",
      "30 : ['club', 'football']\n",
      "31 : ['club', 'based']\n",
      "32 : ['club', 'in']\n",
      "33 : ['based', 'football']\n",
      "34 : ['based', 'club']\n",
      "35 : ['based', 'in']\n",
      "36 : ['based', 'old']\n",
      "37 : ['in', 'club']\n",
      "38 : ['in', 'based']\n",
      "39 : ['in', 'old']\n",
      "40 : ['in', 'trafford']\n",
      "41 : ['old', 'based']\n",
      "42 : ['old', 'in']\n",
      "43 : ['old', 'trafford']\n",
      "44 : ['old', 'england']\n",
      "45 : ['trafford', 'in']\n",
      "46 : ['trafford', 'old']\n",
      "47 : ['trafford', 'england']\n",
      "48 : ['england', 'old']\n",
      "49 : ['england', 'trafford']\n",
      "50 : ['liverpool', 'football']\n",
      "51 : ['liverpool', 'club']\n",
      "52 : ['football', 'liverpool']\n",
      "53 : ['football', 'club']\n",
      "54 : ['football', 'is']\n",
      "55 : ['club', 'liverpool']\n",
      "56 : ['club', 'football']\n",
      "57 : ['club', 'is']\n",
      "58 : ['club', 'a']\n",
      "59 : ['is', 'football']\n",
      "60 : ['is', 'club']\n",
      "61 : ['is', 'a']\n",
      "62 : ['is', 'professional']\n",
      "63 : ['a', 'club']\n",
      "64 : ['a', 'is']\n",
      "65 : ['a', 'professional']\n",
      "66 : ['a', 'football']\n",
      "67 : ['professional', 'is']\n",
      "68 : ['professional', 'a']\n",
      "69 : ['professional', 'football']\n",
      "70 : ['professional', 'club']\n",
      "71 : ['football', 'a']\n",
      "72 : ['football', 'professional']\n",
      "73 : ['football', 'club']\n",
      "74 : ['football', 'in']\n",
      "75 : ['club', 'professional']\n",
      "76 : ['club', 'football']\n",
      "77 : ['club', 'in']\n",
      "78 : ['club', 'liverpool']\n",
      "79 : ['in', 'football']\n",
      "80 : ['in', 'club']\n",
      "81 : ['in', 'liverpool']\n",
      "82 : ['in', 'england']\n",
      "83 : ['liverpool', 'club']\n",
      "84 : ['liverpool', 'in']\n",
      "85 : ['liverpool', 'england']\n",
      "86 : ['liverpool', 'that']\n",
      "87 : ['england', 'in']\n",
      "88 : ['england', 'liverpool']\n",
      "89 : ['england', 'that']\n",
      "90 : ['england', 'competes']\n",
      "91 : ['that', 'liverpool']\n",
      "92 : ['that', 'england']\n",
      "93 : ['that', 'competes']\n",
      "94 : ['that', 'in']\n",
      "95 : ['competes', 'england']\n",
      "96 : ['competes', 'that']\n",
      "97 : ['competes', 'in']\n",
      "98 : ['competes', 'the']\n",
      "99 : ['in', 'that']\n",
      "100 : ['in', 'competes']\n",
      "101 : ['in', 'the']\n",
      "102 : ['in', 'premier']\n",
      "103 : ['the', 'competes']\n",
      "104 : ['the', 'in']\n",
      "105 : ['the', 'premier']\n",
      "106 : ['the', 'league']\n",
      "107 : ['premier', 'in']\n",
      "108 : ['premier', 'the']\n",
      "109 : ['premier', 'league']\n",
      "110 : ['premier', 'the']\n",
      "111 : ['league', 'the']\n",
      "112 : ['league', 'premier']\n",
      "113 : ['league', 'the']\n",
      "114 : ['league', 'top']\n",
      "115 : ['the', 'premier']\n",
      "116 : ['the', 'league']\n",
      "117 : ['the', 'top']\n",
      "118 : ['the', 'tier']\n",
      "119 : ['top', 'league']\n",
      "120 : ['top', 'the']\n",
      "121 : ['top', 'tier']\n",
      "122 : ['top', 'of']\n",
      "123 : ['tier', 'the']\n",
      "124 : ['tier', 'top']\n",
      "125 : ['tier', 'of']\n",
      "126 : ['tier', 'english']\n",
      "127 : ['of', 'top']\n",
      "128 : ['of', 'tier']\n",
      "129 : ['of', 'english']\n",
      "130 : ['of', 'football']\n",
      "131 : ['english', 'tier']\n",
      "132 : ['english', 'of']\n",
      "133 : ['english', 'football']\n",
      "134 : ['football', 'of']\n",
      "135 : ['football', 'english']\n"
     ]
    }
   ],
   "source": [
    "# raw sentences is a list of sentences.\n",
    "raw_sentences = corpus_raw.split('.')\n",
    "sentences = []\n",
    "\n",
    "print( 'Total number of sentenses are:', len(raw_sentences))\n",
    "for i, sentence in enumerate(raw_sentences):\n",
    "        sentences.append(sentence.split())\n",
    "#        print(i , ':', sentence.split())\n",
    "\n",
    "#using fixed window size, pairs of word are created for input\n",
    "WINDOW_SIZE = 2\n",
    "\n",
    "data = []\n",
    "for sentence in sentences:\n",
    "    for word_index, word in enumerate(sentence):\n",
    "        for nb_word in sentence[max(word_index - WINDOW_SIZE, 0) : min(word_index + WINDOW_SIZE, len(sentence)) + 1] : \n",
    "            if nb_word != word:\n",
    "                data.append([word, nb_word])\n",
    "print('\\n Original sentence:: ', corpus_raw)\n",
    "print('\\n ************************Input is getting prepared ***********************')  \n",
    "for i, eachpair in enumerate(data):\n",
    "    print(i, ':', eachpair)"
   ]
  },
  {
   "cell_type": "code",
   "execution_count": 269,
   "metadata": {},
   "outputs": [
    {
     "ename": "KeyError",
     "evalue": "'manchester'",
     "output_type": "error",
     "traceback": [
      "\u001b[0;31m---------------------------------------------------------------------------\u001b[0m",
      "\u001b[0;31mKeyError\u001b[0m                                  Traceback (most recent call last)",
      "\u001b[0;32m<ipython-input-269-cb01960ac99e>\u001b[0m in \u001b[0;36m<module>\u001b[0;34m\u001b[0m\n\u001b[1;32m      9\u001b[0m \u001b[0;34m\u001b[0m\u001b[0m\n\u001b[1;32m     10\u001b[0m \u001b[0;32mfor\u001b[0m \u001b[0mi\u001b[0m\u001b[0;34m,\u001b[0m \u001b[0mdata_word\u001b[0m \u001b[0;32min\u001b[0m \u001b[0menumerate\u001b[0m\u001b[0;34m(\u001b[0m\u001b[0mdata\u001b[0m\u001b[0;34m)\u001b[0m\u001b[0;34m:\u001b[0m\u001b[0;34m\u001b[0m\u001b[0;34m\u001b[0m\u001b[0m\n\u001b[0;32m---> 11\u001b[0;31m     \u001b[0mx_train\u001b[0m\u001b[0;34m.\u001b[0m\u001b[0mappend\u001b[0m\u001b[0;34m(\u001b[0m\u001b[0mto_one_hot\u001b[0m\u001b[0;34m(\u001b[0m\u001b[0mword2int\u001b[0m\u001b[0;34m[\u001b[0m \u001b[0mdata_word\u001b[0m\u001b[0;34m[\u001b[0m\u001b[0;36m0\u001b[0m\u001b[0;34m]\u001b[0m \u001b[0;34m]\u001b[0m\u001b[0;34m,\u001b[0m \u001b[0mvocab_size\u001b[0m\u001b[0;34m)\u001b[0m\u001b[0;34m)\u001b[0m\u001b[0;34m\u001b[0m\u001b[0;34m\u001b[0m\u001b[0m\n\u001b[0m\u001b[1;32m     12\u001b[0m     \u001b[0my_train\u001b[0m\u001b[0;34m.\u001b[0m\u001b[0mappend\u001b[0m\u001b[0;34m(\u001b[0m\u001b[0mto_one_hot\u001b[0m\u001b[0;34m(\u001b[0m\u001b[0mword2int\u001b[0m\u001b[0;34m[\u001b[0m \u001b[0mdata_word\u001b[0m\u001b[0;34m[\u001b[0m\u001b[0;36m1\u001b[0m\u001b[0;34m]\u001b[0m \u001b[0;34m]\u001b[0m\u001b[0;34m,\u001b[0m \u001b[0mvocab_size\u001b[0m\u001b[0;34m)\u001b[0m\u001b[0;34m)\u001b[0m\u001b[0;34m\u001b[0m\u001b[0;34m\u001b[0m\u001b[0m\n\u001b[1;32m     13\u001b[0m \u001b[0;34m\u001b[0m\u001b[0m\n",
      "\u001b[0;31mKeyError\u001b[0m: 'manchester'"
     ]
    }
   ],
   "source": [
    "# #function to convert numbers to one hot vectors\n",
    "# def to_one_hot(data_point_index, vocab_size):\n",
    "#     temp = np.zeros(vocab_size)\n",
    "#     temp[data_point_index] = 1\n",
    "#     return temp\n",
    "\n",
    "# x_train = [] # input word\n",
    "# y_train = [] # output word\n",
    "\n",
    "# for i, data_word in enumerate(data):\n",
    "#     x_train.append(to_one_hot(word2int[ data_word[0] ], vocab_size))\n",
    "#     y_train.append(to_one_hot(word2int[ data_word[1] ], vocab_size))\n",
    "\n",
    "# # convert them to numpy arrays\n",
    "# x_train = np.asarray(x_train)\n",
    "# y_train = np.asarray(y_train)\n",
    "# print('words: ', words)\n",
    "# print('X : \\n', x_train)\n",
    "# print('\\nY: \\n', y_train)"
   ]
  },
  {
   "cell_type": "code",
   "execution_count": 244,
   "metadata": {},
   "outputs": [
    {
     "name": "stdout",
     "output_type": "stream",
     "text": [
      "words:  {'old', 'of', 'english', 'top', 'manchester', 'professional', 'football', 'is', 'a', 'tier', 'league', 'in', 'that', 'competes', 'the', 'united', 'liverpool', 'trafford', 'based', 'england', 'club', 'premier'}\n",
      "X : \n",
      " [ 4  4 15 15 15  6  6  6  6 20 20 20 20  7  7  7  7  8  8  8  8  5  5  5\n",
      "  5  6  6  6  6 20 20 20 20 18 18 18 18 11 11 11 11  0  0  0  0 17 17 17\n",
      " 19 19 16 16  6  6  6 20 20 20 20  7  7  7  7  8  8  8  8  5  5  5  5  6\n",
      "  6  6  6 20 20 20 20 11 11 11 11 16 16 16 16 19 19 19 19 12 12 12 12 13\n",
      " 13 13 13 11 11 11 11 14 14 14 14 21 21 21 21 10 10 10 10 14 14 14 14  3\n",
      "  3  3  3  9  9  9  9  1  1  1  1  2  2  2  6  6]\n",
      "\n",
      "Y: \n",
      " [15  6  4  6 20  4 15 20  7 15  6  7  8  6 20  8  5 20  7  5  6  7  8  6\n",
      " 20  8  5 20 18  5  6 18 11  6 20 11  0 20 18  0 17 18 11 17 19 11  0 19\n",
      "  0 17  6 20 16 20  7 16  6  7  8  6 20  8  5 20  7  5  6  7  8  6 20  8\n",
      "  5 20 11  5  6 11 16  6 20 16 19 20 11 19 12 11 16 12 13 16 19 13 11 19\n",
      " 12 11 14 12 13 14 21 13 11 21 10 11 14 10 14 14 21 14  3 21 10  3  9 10\n",
      " 14  9  1 14  3  1  2  3  9  2  6  9  1  6  1  2]\n"
     ]
    }
   ],
   "source": [
    "# function to convert numbers to one hot vectors\n",
    "def to_one_hot(data_point_index, vocab_size):\n",
    "    temp = np.zeros(vocab_size)\n",
    "    temp[data_point_index] = 1\n",
    "    return temp\n",
    "\n",
    "x_train = [] # input word\n",
    "y_train = [] # output word\n",
    "labelss = []\n",
    "for i, data_word in enumerate(data):\n",
    "    \n",
    "    x_train.append((word2int[ data_word[0] ]))\n",
    "    if data_word[0] not in labelss:\n",
    "        labelss.append(data_word[0] )\n",
    "    y_train.append((word2int[ data_word[1] ]))\n",
    "\n",
    "# convert them to numpy arrays\n",
    "x_train = np.asarray(x_train)\n",
    "y_train = np.asarray(y_train)\n",
    "print('words: ', words)\n",
    "print('X : \\n', x_train)\n",
    "print('\\nY: \\n', y_train)"
   ]
  },
  {
   "cell_type": "code",
   "execution_count": 229,
   "metadata": {},
   "outputs": [],
   "source": [
    "#labelss"
   ]
  },
  {
   "cell_type": "code",
   "execution_count": 230,
   "metadata": {},
   "outputs": [],
   "source": [
    "y_train = y_train.reshape((-1, 1))\n"
   ]
  },
  {
   "cell_type": "code",
   "execution_count": 231,
   "metadata": {},
   "outputs": [],
   "source": [
    "#x_train, y_train\n"
   ]
  },
  {
   "cell_type": "code",
   "execution_count": 232,
   "metadata": {},
   "outputs": [
    {
     "name": "stdout",
     "output_type": "stream",
     "text": [
      "Batches (x, y) ([6, 8, 6], [[11], [5], [20]])\n"
     ]
    }
   ],
   "source": [
    "def get_batch(size):\n",
    "    assert size<len(data)\n",
    "    X=[]\n",
    "    Y=[]\n",
    "    rdm = np.random.choice(range(len(data)), size, replace=False)\n",
    "    \n",
    "    for r in rdm:\n",
    "        X.append(word2int[data[r][0]])\n",
    "        Y.append([word2int[data[r][1]]])\n",
    "    return X, Y\n",
    "\n",
    "print('Batches (x, y)', get_batch(3))"
   ]
  },
  {
   "cell_type": "code",
   "execution_count": 233,
   "metadata": {},
   "outputs": [],
   "source": [
    "BATCH_SIZE = 10\n",
    "VOCAB_SIZE = vocab_size #12\n",
    "EMBED_SIZE = 5\n",
    "NUM_SAMPLED= 6\n",
    "LEARNING_RATE =1.0 # 1e-1\n",
    "X = tf.placeholder(tf.int32, shape=[BATCH_SIZE])\n",
    "Y = tf.placeholder(tf.int32, shape=[BATCH_SIZE, 1])\n",
    "\n",
    "with tf.device(\"/cpu:0\"):\n",
    "    embed_matrix = tf.Variable(tf.random_uniform([VOCAB_SIZE, EMBED_SIZE], -1.0, 1.0)) #12,5 \n",
    "    embed = tf.nn.embedding_lookup(embed_matrix, X) #50 , 3"
   ]
  },
  {
   "cell_type": "code",
   "execution_count": 234,
   "metadata": {},
   "outputs": [],
   "source": [
    "#X.shape, Y.shape, embed_matrix.shape, embed.shape\n"
   ]
  },
  {
   "cell_type": "code",
   "execution_count": 235,
   "metadata": {},
   "outputs": [],
   "source": [
    "# tf.nn.nce_loss(weights, biases, labels, inputs, num_sampled, num_classes, num_true=1,\n",
    "# sampled_values=None, remove_accidental_hits=False, partition_strategy='mod',name='nce_loss')\n",
    "nce_weight = tf.Variable(tf.random_uniform([VOCAB_SIZE, EMBED_SIZE],-1.0,1.0)) # (12, 5)\n",
    "nce_bias = tf.Variable(tf.zeros([VOCAB_SIZE]))#12"
   ]
  },
  {
   "cell_type": "code",
   "execution_count": 236,
   "metadata": {},
   "outputs": [],
   "source": [
    "#nce_weight, nce_bias\n"
   ]
  },
  {
   "cell_type": "code",
   "execution_count": 260,
   "metadata": {},
   "outputs": [],
   "source": [
    "loss = tf.reduce_mean(tf.nn.nce_loss(weights=nce_weight,\n",
    "                                     biases=nce_bias,\n",
    "                                     labels=Y,\n",
    "                                     inputs=embed,\n",
    "                                     num_sampled=NUM_SAMPLED,\n",
    "                                     num_classes=VOCAB_SIZE\n",
    "                                    ))\n",
    "#print (loss)\n"
   ]
  },
  {
   "cell_type": "code",
   "execution_count": 261,
   "metadata": {},
   "outputs": [],
   "source": [
    "optimizer = tf.train.AdamOptimizer(1e-1).minimize(loss)\n"
   ]
  },
  {
   "cell_type": "code",
   "execution_count": 262,
   "metadata": {},
   "outputs": [
    {
     "name": "stdout",
     "output_type": "stream",
     "text": [
      "Loss at 0 8.878108\n",
      "Loss at 1000 2.1282516\n",
      "Loss at 2000 1.3175844\n",
      "Loss at 3000 2.2427027\n",
      "Loss at 4000 1.2110066\n",
      "Loss at 5000 1.5972496\n",
      "Loss at 6000 2.8704581\n",
      "Loss at 7000 2.8053105\n",
      "Loss at 8000 2.0491073\n",
      "Loss at 9000 1.7230179\n"
     ]
    }
   ],
   "source": [
    "epochs = 10000\n",
    "with tf.Session() as sess:\n",
    "    sess.run(tf.global_variables_initializer())\n",
    "    \n",
    "    for epoch in range (epochs):\n",
    "        batch_inputs, batch_labels = get_batch(BATCH_SIZE)\n",
    "        _,loss_val = sess.run([optimizer,loss],feed_dict={X: batch_inputs, Y: batch_labels})\n",
    "    \n",
    "        if epoch % 1000 == 0:\n",
    "            print(\"Loss at\", epoch, loss_val )\n",
    "        \n",
    "    temp = embed_matrix.eval()\n",
    "# words"
   ]
  },
  {
   "cell_type": "code",
   "execution_count": 271,
   "metadata": {},
   "outputs": [
    {
     "data": {
      "text/plain": [
       "array([[ 0.6944479 , -0.25988418, -0.6709179 ,  1.0951345 ,  0.9476659 ],\n",
       "       [-0.83016324, -0.19688472,  2.0873039 , -1.7829826 , -0.06266162],\n",
       "       [ 1.0977699 , -0.141658  ,  1.4091423 , -2.64497   ,  0.5532724 ],\n",
       "       [-0.22961949, -0.9885367 ,  0.91091657, -0.755999  ,  1.8764786 ],\n",
       "       [ 2.0185442 ,  1.2253134 ,  0.1301832 , -1.807558  , -0.11586981],\n",
       "       [-1.1000371 ,  0.54688513, -0.01973297, -1.0040284 , -1.1031016 ],\n",
       "       [ 0.56303626, -1.8714243 , -0.29543772, -0.53828394, -0.6383572 ],\n",
       "       [-0.13107562, -0.05864046,  0.48632798, -0.22897488, -0.99308646],\n",
       "       [-0.12486245, -0.33267194, -0.4034236 , -0.74628454, -1.0242493 ],\n",
       "       [-0.7966839 , -1.5956622 ,  1.3138496 , -0.883736  ,  0.40056163],\n",
       "       [-1.8473268 , -0.7873239 ,  0.9229829 , -0.29741883,  1.1911665 ],\n",
       "       [-0.6692132 , -0.56363994, -0.24505115,  0.77865577, -0.02694191],\n",
       "       [ 0.96776   , -0.07424176,  0.424195  ,  0.979758  ,  0.7956037 ],\n",
       "       [ 0.41498128, -0.24653174, -1.3398798 ,  0.02364797,  2.2288456 ],\n",
       "       [-0.05130024, -1.2013073 ,  1.7001089 ,  0.6638979 ,  0.7655233 ],\n",
       "       [ 0.21324031, -0.5775961 , -0.90290797, -2.5316107 ,  0.82906777],\n",
       "       [ 0.28896362, -0.17394818, -1.7002294 , -0.0509948 ,  0.7434674 ],\n",
       "       [ 0.06547707,  1.5542159 , -1.0368454 ,  0.8679077 ,  1.2674894 ],\n",
       "       [ 0.3802185 ,  1.4344517 , -1.1640915 , -0.02721157,  0.5312348 ],\n",
       "       [ 0.45143968,  0.25331858, -0.09044404,  0.7782993 ,  0.17989238],\n",
       "       [ 1.0224817 ,  0.45860085,  0.05999306,  0.2832582 , -0.95989096],\n",
       "       [ 1.1815623 , -0.07145299, -0.0567335 , -0.05053306,  2.1189413 ]],\n",
       "      dtype=float32)"
      ]
     },
     "execution_count": 271,
     "metadata": {},
     "output_type": "execute_result"
    }
   ],
   "source": [
    "temp"
   ]
  },
  {
   "cell_type": "code",
   "execution_count": 263,
   "metadata": {},
   "outputs": [],
   "source": [
    "# fit a 2d PCA model to the vectors\n",
    "from sklearn.decomposition import PCA\n",
    "pca = PCA(n_components=2)\n",
    "trained_embeedings = pca.fit_transform(temp)"
   ]
  },
  {
   "cell_type": "code",
   "execution_count": 264,
   "metadata": {},
   "outputs": [
    {
     "data": {
      "text/plain": [
       "array([[-1.5520433 , -0.6990878 ],\n",
       "       [ 2.5119753 ,  0.10410953],\n",
       "       [ 1.8522092 ,  1.3372521 ],\n",
       "       [ 0.78593045, -1.1874233 ],\n",
       "       [-0.00537155,  2.5185468 ],\n",
       "       [ 0.81831336,  0.8820145 ],\n",
       "       [ 0.63966703,  0.02931802],\n",
       "       [ 0.60480636,  0.3896371 ],\n",
       "       [ 0.44223282,  0.7894859 ],\n",
       "       [ 1.8720802 , -1.0829864 ],\n",
       "       [ 1.0956815 , -1.740187  ],\n",
       "       [-0.35508478, -0.9126523 ],\n",
       "       [-0.89743704, -0.6277718 ],\n",
       "       [-1.6190529 , -0.6100271 ],\n",
       "       [ 0.7840615 , -1.7202698 ],\n",
       "       [ 0.6591576 ,  1.12912   ],\n",
       "       [-1.4080267 ,  0.16863525],\n",
       "       [-2.1986866 , -0.02471079],\n",
       "       [-1.6216176 ,  0.92647344],\n",
       "       [-0.91669124, -0.17399745],\n",
       "       [-0.4759838 ,  0.9261311 ],\n",
       "       [-1.0161183 , -0.42160872]], dtype=float32)"
      ]
     },
     "execution_count": 264,
     "metadata": {},
     "output_type": "execute_result"
    }
   ],
   "source": [
    "trained_embeedings"
   ]
  },
  {
   "cell_type": "code",
   "execution_count": 270,
   "metadata": {},
   "outputs": [
    {
     "data": {
      "text/plain": [
       "['manchester',\n",
       " 'united',\n",
       " 'football',\n",
       " 'club',\n",
       " 'is',\n",
       " 'a',\n",
       " 'professional',\n",
       " 'based',\n",
       " 'in',\n",
       " 'old',\n",
       " 'trafford',\n",
       " 'england',\n",
       " 'liverpool',\n",
       " 'that',\n",
       " 'competes',\n",
       " 'the',\n",
       " 'premier',\n",
       " 'league',\n",
       " 'top',\n",
       " 'tier',\n",
       " 'of',\n",
       " 'english']"
      ]
     },
     "execution_count": 270,
     "metadata": {},
     "output_type": "execute_result"
    }
   ],
   "source": [
    "labelss"
   ]
  },
  {
   "cell_type": "code",
   "execution_count": 266,
   "metadata": {},
   "outputs": [
    {
     "data": {
      "image/png": "[encoded data removed]",
      "text/plain": [
       "<Figure size 432x288 with 1 Axes>"
      ]
     },
     "metadata": {
      "needs_background": "light"
     },
     "output_type": "display_data"
    }
   ],
   "source": [
    "import matplotlib.pyplot as plt\n",
    "#show word2vec if dim is 2\n",
    "if trained_embeedings.shape[1] == 2:\n",
    "    #labels = data[:10] #Show top 10 words\n",
    "#     plt.xlim(-2.5, 2.4)\n",
    "#     plt.ylim(-2.0, 2.2)\n",
    "    for i, label in enumerate(labelss):\n",
    "        x,y = trained_embeedings[i,:]\n",
    "        plt.scatter(x,y)\n",
    "        plt.annotate(label, xy=(x,y), xytext=(9,3),textcoords='offset points', ha='right', va='bottom')\n",
    "        #plt.savefig('word2vev.png')\n",
    "    plt.show()"
   ]
  },
  {
   "cell_type": "code",
   "execution_count": null,
   "metadata": {},
   "outputs": [],
   "source": []
  },
  {
   "cell_type": "code",
   "execution_count": null,
   "metadata": {},
   "outputs": [],
   "source": []
  }
 ],
 "metadata": {
  "kernelspec": {
   "display_name": "Python 3",
   "language": "python",
   "name": "python3"
  },
  "language_info": {
   "codemirror_mode": {
    "name": "ipython",
    "version": 3
   },
   "file_extension": ".py",
   "mimetype": "text/x-python",
   "name": "python",
   "nbconvert_exporter": "python",
   "pygments_lexer": "ipython3",
   "version": "3.6.8"
  }
 },
 "nbformat": 4,
 "nbformat_minor": 2
}
