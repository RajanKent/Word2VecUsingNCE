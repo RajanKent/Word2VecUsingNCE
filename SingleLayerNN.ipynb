{
 "cells": [
  {
   "cell_type": "code",
   "execution_count": 1,
   "metadata": {},
   "outputs": [],
   "source": [
    "\n",
    "import numpy as np \n",
    "import matplotlib.pyplot as plt \n"
   ]
  },
  {
   "cell_type": "code",
   "execution_count": 7,
   "metadata": {},
   "outputs": [],
   "source": [
    "class NeuralNetwork:\n",
    "    \n",
    "    def __init__(self, inputs, outputs):\n",
    "        self.inputs = inputs\n",
    "        self.outputs = outputs\n",
    "        \n",
    "        self.weights = np.array([[.50],[.50],[.50]])\n",
    "        self.error_history = []\n",
    "        self.epoch_list= []\n",
    "            \n",
    "    def sigmoid(self, x, deriv=False):\n",
    "        if deriv == True:\n",
    "            return x * (1-x)\n",
    "        return 1 / (1+ np.exp(-x))\n",
    "    \n",
    "    def feed_forward(self):\n",
    "        self.hidden = self.sigmoid(np.dot(self.inputs, self.weights))\n",
    "        \n",
    "    def backpropagation(self):\n",
    "        self.error = self.outputs - self.hidden\n",
    "        delta = self.error * self.sigmoid(self.hidden, deriv=True)\n",
    "        self.weights += np.dot(self.inputs.T, delta)\n",
    "        \n",
    "    def train(self, epochs=2500):\n",
    "        for epoch in range(epochs):\n",
    "            self.feed_forward()\n",
    "            self.backpropagation()\n",
    "            self.error_history.append(np.average(np.abs(self.error)))\n",
    "            self.epoch_list.append(epoch)\n",
    "    \n",
    "    def predict(self, new_input):\n",
    "        prediction = self.sigmoid(np.dot(new_input, self.weights))\n",
    "        return prediction\n",
    "    \n",
    "    "
   ]
  },
  {
   "cell_type": "code",
   "execution_count": 8,
   "metadata": {},
   "outputs": [],
   "source": [
    "# input data\n",
    "inputs = np.array([[0, 1, 0],\n",
    "                   [0, 1, 1],\n",
    "                   [0, 0, 0],\n",
    "                   [1, 0, 0],\n",
    "                   [1, 1, 1],\n",
    "                   [1, 0, 1]])\n",
    "# output data\n",
    "outputs = np.array([[0], [0], [0], [1], [1], [1]])\n"
   ]
  },
  {
   "cell_type": "code",
   "execution_count": 9,
   "metadata": {},
   "outputs": [],
   "source": [
    "NN = NeuralNetwork(inputs, outputs)\n",
    "NN.train()"
   ]
  },
  {
   "cell_type": "code",
   "execution_count": 10,
   "metadata": {},
   "outputs": [
    {
     "data": {
      "text/plain": [
       "array([[ 7.71015412],\n",
       "       [-4.21346555],\n",
       "       [ 0.35869241]])"
      ]
     },
     "execution_count": 10,
     "metadata": {},
     "output_type": "execute_result"
    }
   ],
   "source": [
    "NN.weights"
   ]
  },
  {
   "cell_type": "code",
   "execution_count": 11,
   "metadata": {},
   "outputs": [
    {
     "name": "stdout",
     "output_type": "stream",
     "text": [
      "[[0.9705934]]  - Correct:  1\n",
      "[[0.02073918]]  - Correct:  0\n"
     ]
    }
   ],
   "source": [
    "# create two new examples to predict                                   \n",
    "example = np.array([[1, 1, 0]])\n",
    "example_2 = np.array([[0, 1, 1]])\n",
    "\n",
    "# print the predictions for both examples                                   \n",
    "print(NN.predict(example), ' - Correct: ', example[0][0])\n",
    "print(NN.predict(example_2), ' - Correct: ', example_2[0][0])"
   ]
  },
  {
   "cell_type": "code",
   "execution_count": 12,
   "metadata": {},
   "outputs": [
    {
     "data": {
      "image/png": "[encoded data removed]",
      "text/plain": [
       "<Figure size 1080x360 with 1 Axes>"
      ]
     },
     "metadata": {
      "needs_background": "light"
     },
     "output_type": "display_data"
    }
   ],
   "source": [
    "# plot the error over the entire training duration\n",
    "plt.figure(figsize=(15,5))\n",
    "plt.plot(NN.epoch_list, NN.error_history)\n",
    "plt.xlabel('Epoch')\n",
    "plt.ylabel('Error')\n",
    "plt.show()"
   ]
  },
  {
   "cell_type": "code",
   "execution_count": null,
   "metadata": {},
   "outputs": [],
   "source": []
  }
 ],
 "metadata": {
  "kernelspec": {
   "display_name": "Python 3",
   "language": "python",
   "name": "python3"
  },
  "language_info": {
   "codemirror_mode": {
    "name": "ipython",
    "version": 3
   },
   "file_extension": ".py",
   "mimetype": "text/x-python",
   "name": "python",
   "nbconvert_exporter": "python",
   "pygments_lexer": "ipython3",
   "version": "3.6.8"
  }
 },
 "nbformat": 4,
 "nbformat_minor": 2
}
